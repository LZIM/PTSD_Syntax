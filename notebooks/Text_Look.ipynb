{
 "cells": [
  {
   "cell_type": "code",
   "execution_count": 124,
   "metadata": {
    "collapsed": true
   },
   "outputs": [],
   "source": [
    "import pandas as pd\n",
    "import numpy as np\n",
    "import sklearn as sk\n",
    "import matplotlib.pyplot as plt\n",
    "from sklearn.feature_extraction.text import CountVectorizer\n",
    "import nltk\n",
    "import xgboost as xgb\n",
    "\n",
    "import os\n",
    "import pickle\n",
    "import re\n",
    "import bs4\n",
    "\n",
    "from nltk.corpus import stopwords\n",
    "from sklearn.feature_extraction.text import CountVectorizer\n",
    "from sklearn.preprocessing import LabelEncoder\n",
    "from nltk.stem import WordNetLemmatizer"
   ]
  },
  {
   "cell_type": "code",
   "execution_count": 125,
   "metadata": {
    "collapsed": true
   },
   "outputs": [],
   "source": [
    "stops_w_pronouns = set(stopwords.words('english')) - set(['i', 'he', 'she', 'you', \n",
    "                                       'me', 'him', 'her', 'yours',\n",
    "                                       'mine', 'his', 'hers', 'ours', 'our', 'your',\n",
    "                                       'hiself', 'herself', 'myself', 'ourselves', 'yourselves',\n",
    "                                       'yourself', 'it', 'itself', 'them', 'themselves', 'its',\n",
    "                                       'themselves', 'their', 'theirselves', 'they'])\n"
   ]
  },
  {
   "cell_type": "code",
   "execution_count": 127,
   "metadata": {
    "collapsed": false
   },
   "outputs": [],
   "source": [
    "with open('../Reddit/reddit_data.p', 'rb') as f:\n",
    "    df = pickle.load(f)"
   ]
  },
  {
   "cell_type": "code",
   "execution_count": null,
   "metadata": {
    "collapsed": true
   },
   "outputs": [],
   "source": []
  },
  {
   "cell_type": "code",
   "execution_count": 145,
   "metadata": {
    "collapsed": false
   },
   "outputs": [],
   "source": [
    "def cleaner(text):\n",
    "    # Replace non-letter characters w/ space\n",
    "    letters_only = re.sub('[^a-zA-Z]', ' ', text)\n",
    "    # Lower\n",
    "    low_string = letters_only.lower()\n",
    "    # Split\n",
    "    words = [thing for thing in low_string.split(' ') if thing]\n",
    "    words = [\"personalI\" if word == 'i' else word for word in words]\n",
    "    \n",
    "    meaningful_words = [word for word in words if word not in stops_w_pronouns]\n",
    "    \n",
    "    wnl = WordNetLemmatizer()\n",
    "    lemmas = [wnl.lemmatize(word) for word in meaningful_words]\n",
    "    \n",
    "    return ' '.join(lemmas)"
   ]
  },
  {
   "cell_type": "code",
   "execution_count": 146,
   "metadata": {
    "collapsed": false
   },
   "outputs": [],
   "source": [
    "df['text'] = df['text'].apply(cleaner)"
   ]
  },
  {
   "cell_type": "code",
   "execution_count": 147,
   "metadata": {
    "collapsed": true
   },
   "outputs": [],
   "source": [
    "p_df = df[df.flag == 'PTSD']\n",
    "n_df = df[df.flag == 'non_PTSD']"
   ]
  },
  {
   "cell_type": "code",
   "execution_count": 148,
   "metadata": {
    "collapsed": false,
    "scrolled": false
   },
   "outputs": [],
   "source": [
    "def vectorize(text):    \n",
    "    vectorizer = CountVectorizer(analyzer = \"word\",\n",
    "                                 tokenizer = None,\n",
    "                                 preprocessor = None,\n",
    "                                 stop_words = None, \n",
    "                                 max_features = 5000) \n",
    "\n",
    "    train_data_features = vectorizer.fit_transform(text)\n",
    "    vocab = vectorizer.get_feature_names()\n",
    "    return vocab, train_data_features.toarray()"
   ]
  },
  {
   "cell_type": "code",
   "execution_count": 149,
   "metadata": {
    "collapsed": false
   },
   "outputs": [],
   "source": [
    "p_names, p_feat = vectorize(p_df.text)\n",
    "n_names, n_feat = vectorize(n_df.text)"
   ]
  },
  {
   "cell_type": "code",
   "execution_count": 150,
   "metadata": {
    "collapsed": false
   },
   "outputs": [],
   "source": [
    "p_frame = pd.DataFrame(p_feat, columns=p_names)\n",
    "n_frame = pd.DataFrame(n_feat, columns=n_names)"
   ]
  },
  {
   "cell_type": "code",
   "execution_count": 158,
   "metadata": {
    "collapsed": false,
    "scrolled": true
   },
   "outputs": [
    {
     "data": {
      "text/plain": [
       "personali     17.446490\n",
       "it             4.846951\n",
       "me             3.658228\n",
       "you            2.073648\n",
       "like           1.481013\n",
       "he             1.420023\n",
       "feel           1.224396\n",
       "they           1.133487\n",
       "ptsd           1.077100\n",
       "time           1.050633\n",
       "know           1.025316\n",
       "people         1.011507\n",
       "get            0.994246\n",
       "she            0.906789\n",
       "year           0.866513\n",
       "ve             0.859609\n",
       "her            0.848101\n",
       "thing          0.814730\n",
       "would          0.773303\n",
       "one            0.756041\n",
       "want           0.701956\n",
       "life           0.682394\n",
       "really         0.665132\n",
       "even           0.663982\n",
       "myself         0.645570\n",
       "them           0.639816\n",
       "day            0.590334\n",
       "him            0.579977\n",
       "go             0.569620\n",
       "think          0.542002\n",
       "                ...    \n",
       "month          0.298044\n",
       "our            0.296893\n",
       "said           0.294591\n",
       "better         0.293441\n",
       "started        0.288838\n",
       "always         0.281933\n",
       "around         0.279632\n",
       "come           0.277330\n",
       "tell           0.272727\n",
       "person         0.271577\n",
       "else           0.270426\n",
       "away           0.269275\n",
       "talk           0.268124\n",
       "try            0.266974\n",
       "re             0.266974\n",
       "anxiety        0.263521\n",
       "trying         0.262371\n",
       "ever           0.258918\n",
       "long           0.257768\n",
       "everything     0.252014\n",
       "last           0.250863\n",
       "two            0.250863\n",
       "felt           0.247411\n",
       "getting        0.243959\n",
       "since          0.240506\n",
       "therapy        0.237054\n",
       "made           0.237054\n",
       "many           0.235903\n",
       "little         0.231300\n",
       "home           0.231300\n",
       "dtype: float64"
      ]
     },
     "execution_count": 158,
     "metadata": {},
     "output_type": "execute_result"
    }
   ],
   "source": [
    "p_frame.sum().sort_values(ascending=False)[:100]/869"
   ]
  },
  {
   "cell_type": "code",
   "execution_count": 157,
   "metadata": {
    "collapsed": false
   },
   "outputs": [
    {
     "data": {
      "text/plain": [
       "personali    21.164\n",
       "it            6.569\n",
       "me            4.054\n",
       "she           3.330\n",
       "her           2.984\n",
       "you           2.580\n",
       "he            2.125\n",
       "get           1.545\n",
       "like          1.490\n",
       "they          1.273\n",
       "one           1.179\n",
       "time          1.151\n",
       "back          1.091\n",
       "go            1.070\n",
       "his           1.041\n",
       "him           0.954\n",
       "edit          0.949\n",
       "got           0.913\n",
       "would         0.901\n",
       "day           0.877\n",
       "know          0.868\n",
       "didn          0.860\n",
       "going         0.795\n",
       "thing         0.788\n",
       "them          0.745\n",
       "year          0.735\n",
       "said          0.706\n",
       "really        0.667\n",
       "could         0.659\n",
       "say           0.654\n",
       "              ...  \n",
       "told          0.456\n",
       "minute        0.456\n",
       "something     0.456\n",
       "even          0.455\n",
       "pretty        0.435\n",
       "put           0.426\n",
       "decided       0.422\n",
       "ago           0.422\n",
       "today         0.422\n",
       "call          0.420\n",
       "much          0.417\n",
       "two           0.412\n",
       "also          0.412\n",
       "myself        0.410\n",
       "want          0.409\n",
       "house         0.407\n",
       "face          0.400\n",
       "last          0.394\n",
       "old           0.392\n",
       "their         0.391\n",
       "re            0.389\n",
       "http          0.388\n",
       "made          0.388\n",
       "ll            0.387\n",
       "wasn          0.380\n",
       "let           0.380\n",
       "hand          0.375\n",
       "left          0.372\n",
       "getting       0.372\n",
       "wife          0.365\n",
       "dtype: float64"
      ]
     },
     "execution_count": 157,
     "metadata": {},
     "output_type": "execute_result"
    }
   ],
   "source": [
    "n_frame.sum().sort_values(ascending=False)[:100]/1000"
   ]
  },
  {
   "cell_type": "code",
   "execution_count": 153,
   "metadata": {
    "collapsed": false
   },
   "outputs": [
    {
     "data": {
      "text/html": [
       "<div>\n",
       "<table border=\"1\" class=\"dataframe\">\n",
       "  <thead>\n",
       "    <tr style=\"text-align: right;\">\n",
       "      <th></th>\n",
       "      <th>flag</th>\n",
       "      <th>text</th>\n",
       "    </tr>\n",
       "  </thead>\n",
       "  <tbody>\n",
       "    <tr>\n",
       "      <th>count</th>\n",
       "      <td>1000</td>\n",
       "      <td>1000</td>\n",
       "    </tr>\n",
       "    <tr>\n",
       "      <th>unique</th>\n",
       "      <td>1</td>\n",
       "      <td>869</td>\n",
       "    </tr>\n",
       "    <tr>\n",
       "      <th>top</th>\n",
       "      <td>PTSD</td>\n",
       "      <td></td>\n",
       "    </tr>\n",
       "    <tr>\n",
       "      <th>freq</th>\n",
       "      <td>1000</td>\n",
       "      <td>132</td>\n",
       "    </tr>\n",
       "  </tbody>\n",
       "</table>\n",
       "</div>"
      ],
      "text/plain": [
       "        flag  text\n",
       "count   1000  1000\n",
       "unique     1   869\n",
       "top     PTSD      \n",
       "freq    1000   132"
      ]
     },
     "execution_count": 153,
     "metadata": {},
     "output_type": "execute_result"
    }
   ],
   "source": [
    "p_df.describe()"
   ]
  },
  {
   "cell_type": "code",
   "execution_count": 144,
   "metadata": {
    "collapsed": false
   },
   "outputs": [
    {
     "data": {
      "text/html": [
       "<div>\n",
       "<table border=\"1\" class=\"dataframe\">\n",
       "  <thead>\n",
       "    <tr style=\"text-align: right;\">\n",
       "      <th></th>\n",
       "      <th>flag</th>\n",
       "      <th>text</th>\n",
       "    </tr>\n",
       "  </thead>\n",
       "  <tbody>\n",
       "    <tr>\n",
       "      <th>count</th>\n",
       "      <td>1000</td>\n",
       "      <td>1000</td>\n",
       "    </tr>\n",
       "    <tr>\n",
       "      <th>unique</th>\n",
       "      <td>1</td>\n",
       "      <td>1000</td>\n",
       "    </tr>\n",
       "    <tr>\n",
       "      <th>top</th>\n",
       "      <td>non_PTSD</td>\n",
       "      <td>afternoon i mid fap i heard phone buzz i looke...</td>\n",
       "    </tr>\n",
       "    <tr>\n",
       "      <th>freq</th>\n",
       "      <td>1000</td>\n",
       "      <td>1</td>\n",
       "    </tr>\n",
       "  </tbody>\n",
       "</table>\n",
       "</div>"
      ],
      "text/plain": [
       "            flag                                               text\n",
       "count       1000                                               1000\n",
       "unique         1                                               1000\n",
       "top     non_PTSD  afternoon i mid fap i heard phone buzz i looke...\n",
       "freq        1000                                                  1"
      ]
     },
     "execution_count": 144,
     "metadata": {},
     "output_type": "execute_result"
    }
   ],
   "source": [
    "n_df.describe()"
   ]
  },
  {
   "cell_type": "code",
   "execution_count": null,
   "metadata": {
    "collapsed": true
   },
   "outputs": [],
   "source": []
  }
 ],
 "metadata": {
  "kernelspec": {
   "display_name": "Python 3",
   "language": "python",
   "name": "python3"
  },
  "language_info": {
   "codemirror_mode": {
    "name": "ipython",
    "version": 3
   },
   "file_extension": ".py",
   "mimetype": "text/x-python",
   "name": "python",
   "nbconvert_exporter": "python",
   "pygments_lexer": "ipython3",
   "version": "3.5.0"
  }
 },
 "nbformat": 4,
 "nbformat_minor": 0
}
